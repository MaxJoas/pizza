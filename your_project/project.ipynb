{
 "cells": [
  {
   "cell_type": "markdown",
   "metadata": {},
   "source": [
    "## Work with your data\n",
    "In this lab you can bring data from a project and try to solve the following problems:\n",
    "- find label errors in your data\n",
    "- if you have unlabeled data, find which data is most informative to label next\n",
    "- detect outliers and our-of-distribution samples\n",
    "- find general issues in our data\n",
    "\n",
    "You will mainly work with the `cleanlab` library. You will find the link to the appropriate tutorials.\n",
    "\n",
    "\n"
   ]
  },
  {
   "cell_type": "markdown",
   "metadata": {},
   "source": [
    "## Install cleanlab"
   ]
  },
  {
   "cell_type": "code",
   "execution_count": null,
   "metadata": {},
   "outputs": [],
   "source": [
    "%pip install cleanlab"
   ]
  },
  {
   "cell_type": "markdown",
   "metadata": {},
   "source": [
    "### 01 Find label errors\n",
    "To find label errors you'll need the following:\n",
    "- a labeled data set\n",
    "- ideally out-of-sample predictions of class probabilities\n",
    "\n",
    "We use a function called `find_label_issues`. You can read about it [here](https://docs.cleanlab.ai/stable/cleanlab/classification.html#cleanlab.classification.CleanLearning.find_label_issues)\n",
    "Otherwise, if you don't have predictions, you can use `CleanLearning` from cleanlab which will fit a model for you see [here](https://docs.cleanlab.ai/stable/cleanlab/classification.html#cleanlab.classification.CleanLearning)"
   ]
  },
  {
   "cell_type": "code",
   "execution_count": null,
   "metadata": {},
   "outputs": [],
   "source": [
    "import cleanlab\n",
    "labels = None # YOUR DATA\n",
    "pred_probs = None # YOUR DATA\n",
    "\n",
    "cl_issue_idx = cleanlab.filter.find_label_issues(labels, pred_probs, return_indices_ranked_by='self_confidence')"
   ]
  },
  {
   "cell_type": "markdown",
   "metadata": {},
   "source": [
    "### 02 Active learning: what data to label next\n",
    "Here there is already a great tutorial from `cleanlab`, so I leave you with [that](https://github.com/cleanlab/examples/blob/master/active_learning_multiannotator/active_learning.ipynb)"
   ]
  },
  {
   "cell_type": "code",
   "execution_count": 3,
   "metadata": {},
   "outputs": [],
   "source": [
    "# YOUR CODE"
   ]
  },
  {
   "cell_type": "markdown",
   "metadata": {},
   "source": [
    "### 03 Detect outliers and out-of-distribution data\n",
    "For this task, there is also a great tutorial by `cleanlab`. The tutorial will show the process with image data from `cifar`, but you can apply the principles to your own data\n",
    "See [here](https://docs.cleanlab.ai/stable/tutorials/outliers.html)"
   ]
  },
  {
   "cell_type": "code",
   "execution_count": 4,
   "metadata": {},
   "outputs": [],
   "source": [
    "# YOUR CODE"
   ]
  },
  {
   "cell_type": "markdown",
   "metadata": {},
   "source": [
    "### 04 General data problems\n",
    "To get an overview of problems in your dataset, you can use `Datalab from` cleanlab see [here](https://docs.cleanlab.ai/stable/cleanlab/datalab/index.html).\n",
    "You need:\n",
    "- a dataset with labels\n",
    "- name of the label columns\n",
    "- ideally out-of-sample predictions of class probabilities\n",
    "- features of your data as vector `feature_embeddings`"
   ]
  },
  {
   "cell_type": "code",
   "execution_count": 2,
   "metadata": {},
   "outputs": [],
   "source": [
    "### 04 General data problems"
   ]
  },
  {
   "cell_type": "code",
   "execution_count": null,
   "metadata": {},
   "outputs": [],
   "source": []
  }
 ],
 "metadata": {
  "kernelspec": {
   "display_name": "Python 3",
   "language": "python",
   "name": "python3"
  },
  "language_info": {
   "codemirror_mode": {
    "name": "ipython",
    "version": 3
   },
   "file_extension": ".py",
   "mimetype": "text/x-python",
   "name": "python",
   "nbconvert_exporter": "python",
   "pygments_lexer": "ipython3",
   "version": "3.10.11"
  },
  "orig_nbformat": 4
 },
 "nbformat": 4,
 "nbformat_minor": 2
}
